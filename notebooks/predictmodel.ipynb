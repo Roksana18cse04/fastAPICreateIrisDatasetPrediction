{
 "cells": [
  {
   "cell_type": "markdown",
   "metadata": {},
   "source": [
    "# Load Required Libraries and Model\n",
    "Import necessary libraries (pickle/joblib) and load the trained model from disk"
   ]
  },
  {
   "cell_type": "code",
   "execution_count": 1,
   "metadata": {},
   "outputs": [
    {
     "name": "stdout",
     "output_type": "stream",
     "text": [
      "Model loaded successfully!\n"
     ]
    }
   ],
   "source": [
    "# Import necessary libraries\n",
    "import joblib\n",
    "import os\n",
    "\n",
    "# Define the model path\n",
    "MODEL_PATH = r\"D:\\SM_iiris\\FastAPI\\models\\model.pkl\"\n",
    "\n",
    "# Check if model file exists\n",
    "if not os.path.exists(MODEL_PATH):\n",
    "    raise FileNotFoundError(f\"Model file not found at {MODEL_PATH}\")\n",
    "\n",
    "# Load the trained model using joblib\n",
    "try:\n",
    "    model = joblib.load(MODEL_PATH)\n",
    "    print(\"Model loaded successfully!\")\n",
    "except Exception as e:\n",
    "    print(f\"Error loading model: {str(e)}\")"
   ]
  },
  {
   "cell_type": "markdown",
   "metadata": {},
   "source": [
    "# Prepare Input Data\n",
    "Format and preprocess the input data to match the model's expected input format"
   ]
  },
  {
   "cell_type": "code",
   "execution_count": null,
   "metadata": {},
   "outputs": [],
   "source": []
  },
  {
   "cell_type": "markdown",
   "metadata": {},
   "source": [
    "# Make Predictions\n",
    "Use the loaded model to make predictions on the input data"
   ]
  },
  {
   "cell_type": "code",
   "execution_count": 6,
   "metadata": {},
   "outputs": [
    {
     "name": "stdout",
     "output_type": "stream",
     "text": [
      "Model and scaler loaded successfully!\n",
      "\n",
      "Prediction Results:\n",
      "   sepal_length  sepal_width  petal_length  petal_width      Prediction\n",
      "0           5.1          3.5           1.4          0.2     Iris-setosa\n",
      "1           4.9          3.0           1.4          0.2     Iris-setosa\n",
      "2           6.3          3.3           6.0          2.5  Iris-virginica\n"
     ]
    },
    {
     "name": "stderr",
     "output_type": "stream",
     "text": [
      "c:\\Users\\USER\\anaconda3\\Lib\\site-packages\\sklearn\\base.py:486: UserWarning: X has feature names, but LogisticRegression was fitted without feature names\n",
      "  warnings.warn(\n",
      "c:\\Users\\USER\\anaconda3\\Lib\\site-packages\\sklearn\\base.py:486: UserWarning: X has feature names, but LogisticRegression was fitted without feature names\n",
      "  warnings.warn(\n",
      "c:\\Users\\USER\\anaconda3\\Lib\\site-packages\\sklearn\\base.py:486: UserWarning: X has feature names, but LogisticRegression was fitted without feature names\n",
      "  warnings.warn(\n"
     ]
    }
   ],
   "source": [
    "# Load Required Libraries and Model\n",
    "import joblib\n",
    "import pandas as pd\n",
    "import numpy as np\n",
    "import os\n",
    "\n",
    "# Define paths\n",
    "MODEL_PATH = r\"D:\\SM_iiris\\FastAPI\\models\\classifier.pkl\"\n",
    "SCALER_PATH = r\"D:\\SM_iiris\\FastAPI\\models\\scaler.pkl\"\n",
    "\n",
    "# Check if files exist\n",
    "if not os.path.exists(MODEL_PATH):\n",
    "    raise FileNotFoundError(f\"Model file not found at {MODEL_PATH}\")\n",
    "if not os.path.exists(SCALER_PATH):\n",
    "    raise FileNotFoundError(f\"Scaler file not found at {SCALER_PATH}\")\n",
    "\n",
    "# Load the trained model and scaler using joblib\n",
    "try:\n",
    "    model = joblib.load(MODEL_PATH)\n",
    "    scaler = joblib.load(SCALER_PATH)\n",
    "    print(\"Model and scaler loaded successfully!\")\n",
    "except Exception as e:\n",
    "    print(f\"Error loading files: {str(e)}\")\n",
    "\n",
    "# Sample input data \n",
    "input_data = {\n",
    "    'sepal_length': [5.1, 4.9, 6.3],\n",
    "    'sepal_width': [3.5, 3.0, 3.3], \n",
    "    'petal_length': [1.4, 1.4, 6.0],\n",
    "    'petal_width': [0.2, 0.2, 2.5]\n",
    "}\n",
    "\n",
    "# Convert to DataFrame\n",
    "input_df = pd.DataFrame(input_data)\n",
    "\n",
    "# Scale the input data using loaded scaler\n",
    "input_df_scaled = scaler.transform(input_df)\n",
    "input_df_scaled = pd.DataFrame(input_df_scaled, columns=input_df.columns)\n",
    "\n",
    "# Make predictions\n",
    "predictions = model.predict(input_df_scaled)\n",
    "\n",
    "# Create mapping dictionary\n",
    "iris_mapping = {\n",
    "    0: 'Iris-setosa',\n",
    "    1: 'Iris-versicolor', \n",
    "    2: 'Iris-virginica'\n",
    "}\n",
    "\n",
    "# Convert numeric predictions to class names\n",
    "predictions_mapped = [iris_mapping[pred] for pred in predictions]\n",
    "\n",
    "# Create results DataFrame\n",
    "results_df = input_df.copy()\n",
    "results_df['Prediction'] = predictions_mapped\n",
    "\n",
    "# Display results\n",
    "print(\"\\nPrediction Results:\")\n",
    "print(results_df)"
   ]
  },
  {
   "cell_type": "markdown",
   "metadata": {},
   "source": [
    "# Display Results\n",
    "Format and display the prediction results in a readable format"
   ]
  }
 ],
 "metadata": {
  "kernelspec": {
   "display_name": "base",
   "language": "python",
   "name": "python3"
  },
  "language_info": {
   "codemirror_mode": {
    "name": "ipython",
    "version": 3
   },
   "file_extension": ".py",
   "mimetype": "text/x-python",
   "name": "python",
   "nbconvert_exporter": "python",
   "pygments_lexer": "ipython3",
   "version": "3.12.7"
  }
 },
 "nbformat": 4,
 "nbformat_minor": 2
}
